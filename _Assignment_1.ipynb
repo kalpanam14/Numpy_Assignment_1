{
 "cells": [
  {
   "cell_type": "code",
   "execution_count": 1,
   "metadata": {},
   "outputs": [
    {
     "name": "stdout",
     "output_type": "stream",
     "text": [
      "[0. 0. 0. 0. 1. 0. 0. 0. 0. 0.]\n"
     ]
    }
   ],
   "source": [
    "# Create a null vector of size 10 but the fifth value which is 1\n",
    "import numpy as np\n",
    "null_vector = np.zeros(10)\n",
    "null_vector[4] = 1\n",
    "print(null_vector)"
   ]
  },
  {
   "cell_type": "code",
   "execution_count": 2,
   "metadata": {},
   "outputs": [
    {
     "name": "stdout",
     "output_type": "stream",
     "text": [
      "[10 11 12 13 14 15 16 17 18 19 20 21 22 23 24 25 26 27 28 29 30 31 32 33\n",
      " 34 35 36 37 38 39 40 41 42 43 44 45 46 47 48 49]\n"
     ]
    }
   ],
   "source": [
    "#Create a vector with values ranging from 10 to 49\n",
    "vector = np.arange(10,50)\n",
    "print(vector)"
   ]
  },
  {
   "cell_type": "code",
   "execution_count": 3,
   "metadata": {},
   "outputs": [
    {
     "name": "stdout",
     "output_type": "stream",
     "text": [
      "[[0 1 2]\n",
      " [3 4 5]\n",
      " [6 7 8]]\n"
     ]
    }
   ],
   "source": [
    "#Create a 3x3 matrix with values ranging from 0 to 8\n",
    "matrix = np.arange(9).reshape(3,3)\n",
    "print(matrix)"
   ]
  },
  {
   "cell_type": "code",
   "execution_count": 4,
   "metadata": {},
   "outputs": [
    {
     "name": "stdout",
     "output_type": "stream",
     "text": [
      "(array([0, 1, 4], dtype=int64),)\n"
     ]
    }
   ],
   "source": [
    "#Find indices of non-zero elements from [1,2,0,0,4,0]\n",
    "array1 = np.array([1,2,0,0,4,0])\n",
    "non_zero_indices = np.nonzero(array1)\n",
    "print(non_zero_indices)\n"
   ]
  },
  {
   "cell_type": "code",
   "execution_count": 5,
   "metadata": {},
   "outputs": [
    {
     "name": "stdout",
     "output_type": "stream",
     "text": [
      "Minimum Value : 0.009171038847228474\n",
      "Maximum Value:  0.9919105546487778\n"
     ]
    }
   ],
   "source": [
    "# Create a 10x10 array with random values and find the minimum and maximum values.\n",
    "array = np.random.rand(10,10)\n",
    "minimum_value = np.min(array)\n",
    "maximum_value = np.max(array)\n",
    "\n",
    "print(\"Minimum Value :\",minimum_value)\n",
    "print(\"Maximum Value: \",maximum_value)"
   ]
  },
  {
   "cell_type": "code",
   "execution_count": 6,
   "metadata": {},
   "outputs": [
    {
     "name": "stdout",
     "output_type": "stream",
     "text": [
      "Mean Value:  0.44296399073804\n"
     ]
    }
   ],
   "source": [
    "#Create a random vector of size 30 and find the mean value\n",
    "random_vector = np.random.rand(30)\n",
    "mean_value = np.mean(random_vector)\n",
    "print(\"Mean Value: \",mean_value)"
   ]
  }
 ],
 "metadata": {
  "kernelspec": {
   "display_name": "Python 3",
   "language": "python",
   "name": "python3"
  },
  "language_info": {
   "codemirror_mode": {
    "name": "ipython",
    "version": 3
   },
   "file_extension": ".py",
   "mimetype": "text/x-python",
   "name": "python",
   "nbconvert_exporter": "python",
   "pygments_lexer": "ipython3",
   "version": "3.11.4"
  },
  "orig_nbformat": 4
 },
 "nbformat": 4,
 "nbformat_minor": 2
}
